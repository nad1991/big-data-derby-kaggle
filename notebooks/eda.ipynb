{
 "cells": [
  {
   "cell_type": "markdown",
   "metadata": {},
   "source": [
    "# EDA for Big Data Derby Competition"
   ]
  },
  {
   "cell_type": "markdown",
   "metadata": {},
   "source": [
    "## MAIN"
   ]
  },
  {
   "cell_type": "markdown",
   "metadata": {},
   "source": [
    "### Creating paths to diferent folders"
   ]
  },
  {
   "cell_type": "code",
   "execution_count": 1,
   "metadata": {},
   "outputs": [
    {
     "name": "stdout",
     "output_type": "stream",
     "text": [
      "Notebook dir:  c:\\Users\\Nad\\Documents\\Programación\\Kaggle\\big-data-derby-kaggle\\notebooks\\nad\n",
      "Repo dir:  c:\\Users\\Nad\\Documents\\Programación\\Kaggle\\big-data-derby-kaggle\n",
      "Data dir:  c:\\Users\\Nad\\Documents\\Programación\\Kaggle\\big-data-derby-kaggle\\data\n"
     ]
    }
   ],
   "source": [
    "import os\n",
    "from pathlib import Path\n",
    "\n",
    "# Get current work directory of file (Notebook dir)\n",
    "NOTEBOOK_DIR=Path(os.path.abspath(os.getcwd()))\n",
    "# Root path of repo\n",
    "WORK_DIR=NOTEBOOK_DIR.parent.parent\n",
    "# Path to Datasets\n",
    "DATA_DIR=WORK_DIR / 'data'\n",
    "\n",
    "# Noob printing to check if I did this shit right\n",
    "print(\"Notebook dir: \", NOTEBOOK_DIR)\n",
    "print(\"Repo dir: \", WORK_DIR)\n",
    "print(\"Data dir: \", DATA_DIR)"
   ]
  },
  {
   "cell_type": "markdown",
   "metadata": {},
   "source": [
    "### Loading csv into dataframes"
   ]
  },
  {
   "cell_type": "code",
   "execution_count": 2,
   "metadata": {},
   "outputs": [],
   "source": [
    "import pandas as pd\n",
    "import numpy as np\n",
    "pd.plotting.register_matplotlib_converters()\n",
    "import matplotlib.pyplot as plt\n",
    "import seaborn as sns\n",
    "\n",
    "# horse_data = pd.read_csv(DATA_DIR / 'horse_ids.csv', index_col=0)\n",
    "df_tracking = pd.read_csv(DATA_DIR / 'ordered_tracking.csv', dtype={\n",
    "    'race_date': 'string',\n",
    "    'program_number': 'string'\n",
    "})\n",
    "df_tracking['program_number'] = df_tracking['program_number'].str.ljust(3)\n",
    "df_tracking = df_tracking.groupby(['race_date','race_number','program_number','trakus_index']).min()\n",
    "df_results = pd.read_csv(DATA_DIR / 'ordered_races.csv').groupby(['race_date','race_number','program_number']).min()\n"
   ]
  },
  {
   "cell_type": "markdown",
   "metadata": {},
   "source": [
    "#### Loader functions"
   ]
  },
  {
   "cell_type": "markdown",
   "metadata": {},
   "source": [
    "- Function output dataframes saved to csv to save time\n",
    "- Kept commented out just to check how they were made if needed"
   ]
  },
  {
   "cell_type": "code",
   "execution_count": 3,
   "metadata": {},
   "outputs": [],
   "source": [
    "# def load_data():\n",
    "#     complete_data_headers = ['track_id','race_date','race_number','program_number','trakus_index','latitude','longitude','distance_id',\n",
    "#     'course_type','track_condition','run_up_distance','race_type','purse','post_time','weight_carried','jockey','odds','position_at_finish']\n",
    "#     dtypes = {'race_date': 'string',\n",
    "#             'program_number': 'string',\n",
    "#             }\n",
    "#     complete_data= pd.read_csv(DATA_DIR / 'nyra_2019_complete.csv', names=complete_data_headers, dtype=dtypes)\n",
    "\n",
    "#     loaded = complete_data.drop(['trakus_index','latitude','longitude','purse','post_time'], axis = 1)\n",
    "#     loaded['program_number'] = loaded['program_number'].str.ljust(3)\n",
    "#     loaded = loaded.groupby(['race_date','race_number','program_number']).max()\n",
    "\n",
    "#     return loaded"
   ]
  },
  {
   "cell_type": "code",
   "execution_count": 4,
   "metadata": {},
   "outputs": [],
   "source": [
    "## Ordering tracking table by date, number, program and trakus index\n",
    "## Loading time: ~11 min\n",
    "## Saved to csv 'ordered_tracking.csv' to save time \n",
    "\n",
    "# tracking_df = pd.read_csv(DATA_DIR / 'nyra_tracking_table.csv')\n",
    "# ordered_tracking = tracking_df.groupby(['race_date','race_number','program_number','trakus_index']).min()\n",
    "# ordered_tracking.to_csv(DATA_DIR / 'ordered_tracking.csv')\n"
   ]
  },
  {
   "cell_type": "markdown",
   "metadata": {},
   "source": [
    "#### Other functions"
   ]
  },
  {
   "cell_type": "code",
   "execution_count": 59,
   "metadata": {},
   "outputs": [],
   "source": [
    "# Let's def function to apply Haversine formula\n",
    "# Passing a dataframe with coordinates (lat, lon)\n",
    "# we get returned a list of distances between the coordinates\n",
    "\n",
    "# this was modified from a snippet of code extracted from\n",
    "# https://www.geeksforgeeks.org/program-distance-two-points-earth/ by Aarti_Rathi\n",
    "def haversine_distance(coords):\n",
    "    \n",
    "    # Convert df from degrees to radians.\n",
    "    rad_coords = np.radians(coords.drop(['speed','distance_covered'],axis=1))\n",
    "\n",
    "    # Create a shifted version of the coordinates to compare\n",
    "    shifted_rad_coords = rad_coords.shift(1)\n",
    "\n",
    "    # And subtract them to get our delta from point a to point b\n",
    "    sub_coords = shifted_rad_coords.sub(rad_coords)\n",
    "\n",
    "    dlat, dlon = sub_coords.latitude, sub_coords.longitude\n",
    "\n",
    "    a = np.sin(dlat / 2)**2 + np.cos(rad_coords.latitude) * np.cos(shifted_rad_coords.latitude) * np.sin(dlon / 2)**2\n",
    "    \n",
    "    c = 2 * np.arcsin(np.sqrt(a))\n",
    "\n",
    "    # Radius of earth in meters.\n",
    "    r = 6371000\n",
    "        \n",
    "    # return the result list\n",
    "    return (c * r).fillna('0').to_list()"
   ]
  },
  {
   "cell_type": "code",
   "execution_count": 70,
   "metadata": {},
   "outputs": [],
   "source": [
    "converted_info = False\n",
    "\n",
    "def add_info(x=500):\n",
    "    # Add columns to df for new data\n",
    "    if 'speed' not in df_tracking:\n",
    "        df_tracking.insert(len(df_tracking.columns), column='speed', value=0.0)\n",
    "    if 'distance_covered' not in df_tracking:\n",
    "        df_tracking.insert(len(df_tracking.columns), column='distance_covered', value=0.0)\n",
    "\n",
    "    # Loop target dataframe index as list\n",
    "    # TODO modify it to work with a df passed to the function, maybe?\n",
    "    for i in df_results.head(x).index.to_list():\n",
    "        distance = haversine_distance(df_tracking.loc[i])\n",
    "\n",
    "        df_tracking.loc[i, 'speed'] = np.array(distance, dtype='float64') * 4\n",
    "        df_tracking.loc[i, 'distance_covered'] = np.cumsum(np.array(distance, dtype='float64'))\n",
    "    \n",
    "    df_tracking.speed = df_tracking.speed.astype('float64').round(3)\n",
    "    df_tracking.distance_covered = df_tracking.distance_covered.astype('float64').round(3)\n",
    "\n",
    "    # Prevent from converting again by running function twice by mistake\n",
    "    global converted_info\n",
    "\n",
    "    # Standarize measures to meters\n",
    "    if converted_info == False:\n",
    "        df_results.run_up_distance = (df_results.run_up_distance * 0.3048).round(1)\n",
    "        df_results.distance_id = ((df_results.distance_id / 100) * 201.168).round(1)\n",
    "\n",
    "        converted_info = True\n",
    "\n",
    "    return"
   ]
  },
  {
   "cell_type": "markdown",
   "metadata": {},
   "source": [
    "#### Timings"
   ]
  },
  {
   "cell_type": "code",
   "execution_count": 24,
   "metadata": {},
   "outputs": [
    {
     "name": "stdout",
     "output_type": "stream",
     "text": [
      "3.44 ms ± 21.9 µs per loop (mean ± std. dev. of 7 runs, 100 loops each)\n"
     ]
    }
   ],
   "source": [
    "%timeit haversine_distance(df_tracking.loc['2019-01-01',1,'3  '])"
   ]
  },
  {
   "cell_type": "code",
   "execution_count": 78,
   "metadata": {},
   "outputs": [
    {
     "name": "stdout",
     "output_type": "stream",
     "text": [
      "687 ms ± 4.15 ms per loop (mean ± std. dev. of 7 runs, 1 loop each)\n"
     ]
    }
   ],
   "source": [
    "%timeit add_info(1)"
   ]
  },
  {
   "cell_type": "code",
   "execution_count": 77,
   "metadata": {},
   "outputs": [
    {
     "name": "stdout",
     "output_type": "stream",
     "text": [
      "37.3 s ± 756 ms per loop (mean ± std. dev. of 7 runs, 1 loop each)\n"
     ]
    }
   ],
   "source": [
    "%timeit add_info(1000)"
   ]
  },
  {
   "cell_type": "markdown",
   "metadata": {},
   "source": [
    "## Manipulating dataframes"
   ]
  },
  {
   "cell_type": "code",
   "execution_count": 79,
   "metadata": {},
   "outputs": [],
   "source": [
    "add_info()"
   ]
  },
  {
   "cell_type": "markdown",
   "metadata": {},
   "source": [
    "## Snippet testing"
   ]
  },
  {
   "cell_type": "code",
   "execution_count": 37,
   "metadata": {},
   "outputs": [],
   "source": [
    "for i in df_results.head(500).index.to_list():\n",
    "    idx = (i[0], i[1], str(i[2]).ljust(3))\n",
    "\n",
    "    df_results['speed'].loc[idx] = haversine_distance(df_tracking.loc[idx])"
   ]
  },
  {
   "cell_type": "code",
   "execution_count": 15,
   "metadata": {},
   "outputs": [
    {
     "data": {
      "text/plain": [
       "count             15081\n",
       "unique              178\n",
       "top       Manuel Franco\n",
       "freq               1289\n",
       "Name: jockey, dtype: object"
      ]
     },
     "execution_count": 15,
     "metadata": {},
     "output_type": "execute_result"
    }
   ],
   "source": [
    "df_results.jockey.describe()"
   ]
  },
  {
   "cell_type": "code",
   "execution_count": 16,
   "metadata": {},
   "outputs": [
    {
     "data": {
      "text/plain": [
       "count              2022\n",
       "unique               86\n",
       "top       Manuel Franco\n",
       "freq                195\n",
       "Name: jockey, dtype: object"
      ]
     },
     "execution_count": 16,
     "metadata": {},
     "output_type": "execute_result"
    }
   ],
   "source": [
    "df_results.loc[df_results.position_at_finish == 3].jockey.describe()"
   ]
  },
  {
   "cell_type": "code",
   "execution_count": 17,
   "metadata": {},
   "outputs": [
    {
     "data": {
      "text/plain": [
       "Manuel Franco       195\n",
       "Dylan Davis         153\n",
       "Jose Lezcano        129\n",
       "Junior Alvarado     124\n",
       "Irad Ortiz Jr.      121\n",
       "                   ... \n",
       "Thomas Garner         1\n",
       "Ross Geraghty         1\n",
       "William McCarthy      1\n",
       "Nazario Alvarado      1\n",
       "Wilmer A. Garcia      1\n",
       "Name: jockey, Length: 86, dtype: int64"
      ]
     },
     "execution_count": 17,
     "metadata": {},
     "output_type": "execute_result"
    }
   ],
   "source": [
    "df_results.loc[df_results.position_at_finish == 3].jockey.value_counts()"
   ]
  }
 ],
 "metadata": {
  "kernelspec": {
   "display_name": "Python 3.10.5 64-bit",
   "language": "python",
   "name": "python3"
  },
  "language_info": {
   "codemirror_mode": {
    "name": "ipython",
    "version": 3
   },
   "file_extension": ".py",
   "mimetype": "text/x-python",
   "name": "python",
   "nbconvert_exporter": "python",
   "pygments_lexer": "ipython3",
   "version": "3.10.5"
  },
  "orig_nbformat": 4,
  "vscode": {
   "interpreter": {
    "hash": "0a1512eeb113b1eb15b9025398b6197a29e6cd44532ed70de67571b33f736f7c"
   }
  }
 },
 "nbformat": 4,
 "nbformat_minor": 2
}
